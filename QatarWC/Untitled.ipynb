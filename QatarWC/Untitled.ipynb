{
 "cells": [
  {
   "cell_type": "code",
   "execution_count": 7,
   "id": "e00c5f14",
   "metadata": {},
   "outputs": [],
   "source": [
    "import numpy as np\n",
    "import pandas as pd\n",
    "from cs50 import SQL\n",
    "from random import randint\n",
    "from scipy.stats import rv_discrete\n",
    "\n",
    "db = SQL(\"sqlite:///qatarwc.db\")"
   ]
  },
  {
   "cell_type": "code",
   "execution_count": 8,
   "id": "6a13bf1d",
   "metadata": {},
   "outputs": [],
   "source": [
    "class Team:\n",
    "    \"Football team\"\n",
    "    def __init__(self, name, group):\n",
    "        self.name = name\n",
    "        self.group = group\n",
    "        self.points = 0\n",
    "        self.goals_scored = 0\n",
    "        self.goals_received = 0\n",
    "        self.stage = \"groups\"\n",
    "\n",
    "    def match(self, scored, received):\n",
    "        self.goals_scored += scored\n",
    "        self.goals_received += received\n",
    "        # Update points depending on result\n",
    "        if scored > received:\n",
    "            self.points += 3\n",
    "        elif scored == received:\n",
    "            self.points += 1\n",
    "\n",
    "    def eliminate(self):\n",
    "        self.stage = 'eliminated'"
   ]
  },
  {
   "cell_type": "code",
   "execution_count": 38,
   "id": "43fa1210",
   "metadata": {},
   "outputs": [],
   "source": [
    "# Dict of Team instances\n",
    "TEAMS = {}\n",
    "def create_teams():\n",
    "    \n",
    "    for i, team in enumerate(db.execute('SELECT code, \"group\" FROM teams;')):\n",
    "        TEAMS[team['code']] = Team(team['code'], team['group'])\n"
   ]
  },
  {
   "cell_type": "code",
   "execution_count": 54,
   "id": "b03668ce",
   "metadata": {},
   "outputs": [
    {
     "data": {
      "text/plain": [
       "3"
      ]
     },
     "execution_count": 54,
     "metadata": {},
     "output_type": "execute_result"
    }
   ],
   "source": [
    "TEAMS['MEX'].points"
   ]
  },
  {
   "cell_type": "code",
   "execution_count": 59,
   "id": "7e437b1f",
   "metadata": {},
   "outputs": [],
   "source": [
    "def simulate_match():\n",
    "    \"\"\"\n",
    "    Returns the final score of a simulated football match. \n",
    "    The max goals ever scored in a WC match are 12.\n",
    "    The max goals scored by one team are 10.\n",
    "    \"\"\"\n",
    "    # Custom probability distribution of total match goals\n",
    "    xk = range(13)\n",
    "    pk = (0.09, 0.18, 0.28, 0.24, 0.08, 0.065, 0.025, 0.015, 0.0105, 0.006, 0.004, 0.0025, 0.002)\n",
    "    pdist = rv_discrete(values=(xk, pk))\n",
    "\n",
    "    # Generate sample\n",
    "    total_goals = pdist.rvs() \n",
    "    # Assign a portion of goals to one team (max 10)\n",
    "    t1_goals = randint(0,10) if total_goals>10 else randint(0, total_goals)\n",
    "\n",
    "    # Return score\n",
    "    return t1_goals, total_goals - t1_goals\n",
    "\n",
    "def simulate_groups():\n",
    "    \"\"\"\"\n",
    "    Simulates the group stage for one group according to FIFA rules.\n",
    "    https://digitalhub.fifa.com/m/2744a0a5e3ded185/original/FIFA-World-Cup-Qatar-2022-Regulations_EN.pdf\n",
    "    \"\"\"\n",
    "    group_matches = db.execute(\"SELECT match, team1, team2 FROM fixtures WHERE stage = 'group matches';\")\n",
    "    groups_df = pd.DataFrame(group_matches).set_index('match')\n",
    "\n",
    "    t1_goals=[]\n",
    "    t2_goals=[]\n",
    "    for _, row in groups_df.iterrows():\n",
    "        g1, g2 = simulate_match()\n",
    "        # Store score\n",
    "        t1_goals.append(g1)\n",
    "        t2_goals.append(g2)\n",
    "\n",
    "        # Update statistics of both teams\n",
    "        TEAMS[row['team1']].match(g1, g2)\n",
    "        TEAMS[row['team2']].match(g2, g1)\n",
    "\n",
    "    groups_df.insert(2, 't1_goals', t1_goals)\n",
    "    groups_df.insert(3, 't2_goals', t2_goals)\n",
    "\n",
    "    #print(groups_df)"
   ]
  },
  {
   "cell_type": "code",
   "execution_count": 51,
   "id": "2244a15c",
   "metadata": {},
   "outputs": [
    {
     "data": {
      "text/plain": [
       "7"
      ]
     },
     "execution_count": 51,
     "metadata": {},
     "output_type": "execute_result"
    }
   ],
   "source": [
    "TEAMS['QAT'].points"
   ]
  },
  {
   "cell_type": "code",
   "execution_count": 98,
   "id": "0f5d5189",
   "metadata": {},
   "outputs": [
    {
     "data": {
      "text/html": [
       "<div>\n",
       "<style scoped>\n",
       "    .dataframe tbody tr th:only-of-type {\n",
       "        vertical-align: middle;\n",
       "    }\n",
       "\n",
       "    .dataframe tbody tr th {\n",
       "        vertical-align: top;\n",
       "    }\n",
       "\n",
       "    .dataframe thead th {\n",
       "        text-align: right;\n",
       "    }\n",
       "</style>\n",
       "<table border=\"1\" class=\"dataframe\">\n",
       "  <thead>\n",
       "    <tr style=\"text-align: right;\">\n",
       "      <th></th>\n",
       "      <th>team</th>\n",
       "      <th>pts</th>\n",
       "      <th>gdf</th>\n",
       "    </tr>\n",
       "  </thead>\n",
       "  <tbody>\n",
       "    <tr>\n",
       "      <th>1</th>\n",
       "      <td>ARG</td>\n",
       "      <td>7</td>\n",
       "      <td>3</td>\n",
       "    </tr>\n",
       "    <tr>\n",
       "      <th>2</th>\n",
       "      <td>KSA</td>\n",
       "      <td>4</td>\n",
       "      <td>-1</td>\n",
       "    </tr>\n",
       "    <tr>\n",
       "      <th>3</th>\n",
       "      <td>MEX</td>\n",
       "      <td>3</td>\n",
       "      <td>-1</td>\n",
       "    </tr>\n",
       "    <tr>\n",
       "      <th>4</th>\n",
       "      <td>POL</td>\n",
       "      <td>3</td>\n",
       "      <td>-1</td>\n",
       "    </tr>\n",
       "  </tbody>\n",
       "</table>\n",
       "</div>"
      ],
      "text/plain": [
       "  team  pts  gdf\n",
       "1  ARG    7    3\n",
       "2  KSA    4   -1\n",
       "3  MEX    3   -1\n",
       "4  POL    3   -1"
      ]
     },
     "execution_count": 98,
     "metadata": {},
     "output_type": "execute_result"
    }
   ],
   "source": [
    "create_teams() # Reset stats every simulation\n",
    "simulate_groups()\n",
    "\n",
    "# SIMULATE A SINGLE GROUP\n",
    "group =[]\n",
    "gl = db.execute('SELECT code FROM teams WHERE \"group\"=\"C\"')\n",
    "\n",
    "for team in gl:\n",
    "    t = TEAMS[team['code']]\n",
    "    group.append([t.name, t.points, t.goals_scored - t.goals_received])\n",
    "    \n",
    "group_df = pd.DataFrame(group, columns=['team','pts','gdf']).sort_values(['pts','gdf'], ascending=[False, False])\n",
    "group_df.index = [1,2,3,4]\n",
    "group_df"
   ]
  },
  {
   "cell_type": "code",
   "execution_count": null,
   "id": "5b8a0a51",
   "metadata": {},
   "outputs": [],
   "source": []
  },
  {
   "cell_type": "code",
   "execution_count": null,
   "id": "f45481a3",
   "metadata": {},
   "outputs": [],
   "source": []
  }
 ],
 "metadata": {
  "kernelspec": {
   "display_name": "Python 3 (ipykernel)",
   "language": "python",
   "name": "python3"
  },
  "language_info": {
   "codemirror_mode": {
    "name": "ipython",
    "version": 3
   },
   "file_extension": ".py",
   "mimetype": "text/x-python",
   "name": "python",
   "nbconvert_exporter": "python",
   "pygments_lexer": "ipython3",
   "version": "3.9.10"
  }
 },
 "nbformat": 4,
 "nbformat_minor": 5
}
