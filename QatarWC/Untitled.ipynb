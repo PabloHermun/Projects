{
 "cells": [
  {
   "cell_type": "code",
   "execution_count": 1,
   "id": "53dce008",
   "metadata": {},
   "outputs": [],
   "source": [
    "import numpy as np\n",
    "import pandas as pd\n",
    "from cs50 import SQL\n",
    "from random import randint\n",
    "from scipy.stats import rv_discrete\n",
    "\n",
    "db = SQL(\"sqlite:///qatarwc.db\")"
   ]
  },
  {
   "cell_type": "code",
   "execution_count": 2,
   "id": "526a753c",
   "metadata": {},
   "outputs": [],
   "source": [
    "class Team:\n",
    "    \"Football team\"\n",
    "    def __init__(self, name, group):\n",
    "        self.name = name\n",
    "        self.group = group\n",
    "        self.points = 0\n",
    "        self.goals_scored = 0\n",
    "        self.goals_received = 0\n",
    "        self.stage = \"groups\"\n",
    "\n",
    "    def match(self, scored, received):\n",
    "        self.goals_scored += scored\n",
    "        self.goals_received += received\n",
    "        # Update points depending on result\n",
    "        if scored > received:\n",
    "            self.points += 3\n",
    "        elif scored == received:\n",
    "            self.points += 1\n",
    "\n",
    "    def eliminate(self):\n",
    "        self.stage = 'eliminated'"
   ]
  },
  {
   "cell_type": "code",
   "execution_count": 26,
   "id": "a80911a5",
   "metadata": {},
   "outputs": [],
   "source": [
    "def create_teams():\n",
    "    # Dict of Team instances\n",
    "    TEAMS = dict()\n",
    "    for i, team in enumerate(db.execute('SELECT code, \"group\" FROM teams;')):\n",
    "        TEAMS[team['code']] = Team(team['code'], team['group'])\n",
    "    return TEAMS"
   ]
  },
  {
   "cell_type": "code",
   "execution_count": 96,
   "id": "f39358b4",
   "metadata": {},
   "outputs": [],
   "source": [
    "def simulate_match():\n",
    "    \"\"\"\n",
    "    Returns the final score of a simulated football match. \n",
    "    The max goals ever scored in a WC match are 12.\n",
    "    The max goals scored by one team are 10.\n",
    "    \"\"\"\n",
    "    # Custom probability distribution of total match goals\n",
    "    xk = range(13)\n",
    "    pk = (0.09, 0.18, 0.28, 0.24, 0.08, 0.065, 0.025, 0.015, 0.0105, 0.006, 0.004, 0.0025, 0.002)\n",
    "    pdist = rv_discrete(values=(xk, pk))\n",
    "\n",
    "    # Generate sample\n",
    "    total_goals = pdist.rvs() \n",
    "    # Assign a portion of goals to one team (max 10)\n",
    "    t1_goals = randint(0,10) if total_goals>10 else randint(0, total_goals)\n",
    "\n",
    "    # Return score\n",
    "    return t1_goals, total_goals - t1_goals\n",
    "\n",
    "def simulate_groups():\n",
    "    \"\"\"\"\n",
    "    Simulates the group stage for one group according to FIFA rules.\n",
    "    https://digitalhub.fifa.com/m/2744a0a5e3ded185/original/FIFA-World-Cup-Qatar-2022-Regulations_EN.pdf\n",
    "    \"\"\"\n",
    "    group_matches = db.execute(\"SELECT match, team1, team2 FROM fixtures WHERE stage = 'group matches';\")\n",
    "    groups_df = pd.DataFrame(group_matches).set_index('match')\n",
    "\n",
    "    t1_goals=[]\n",
    "    t2_goals=[]\n",
    "    for _, row in groups_df.iterrows():\n",
    "        g1, g2 = simulate_match()\n",
    "        # Store score\n",
    "        t1_goals.append(g1)\n",
    "        t2_goals.append(g2)\n",
    "\n",
    "        # Update statistics of both teams\n",
    "        TEAMS[row['team1']].match(g1, g2)\n",
    "        TEAMS[row['team2']].match(g2, g1)\n",
    "\n",
    "    groups_df.insert(2, 't1_goals', t1_goals)\n",
    "    groups_df.insert(3, 't2_goals', t2_goals)\n",
    "\n",
    "    return(groups_df[['t1_goals', 't2_goals']])"
   ]
  },
  {
   "cell_type": "code",
   "execution_count": 97,
   "id": "c299cc40",
   "metadata": {},
   "outputs": [
    {
     "name": "stdout",
     "output_type": "stream",
     "text": [
      "{1: {'t1_goals': 2, 't2_goals': 0}, 2: {'t1_goals': 1, 't2_goals': 2}, 3: {'t1_goals': 3, 't2_goals': 3}, 4: {'t1_goals': 1, 't2_goals': 1}, 5: {'t1_goals': 2, 't2_goals': 2}, 6: {'t1_goals': 0, 't2_goals': 3}, 7: {'t1_goals': 1, 't2_goals': 1}, 8: {'t1_goals': 0, 't2_goals': 6}, 9: {'t1_goals': 3, 't2_goals': 3}, 10: {'t1_goals': 0, 't2_goals': 0}, 11: {'t1_goals': 3, 't2_goals': 0}, 12: {'t1_goals': 1, 't2_goals': 0}, 13: {'t1_goals': 0, 't2_goals': 1}, 14: {'t1_goals': 2, 't2_goals': 1}, 15: {'t1_goals': 1, 't2_goals': 1}, 16: {'t1_goals': 2, 't2_goals': 2}, 17: {'t1_goals': 0, 't2_goals': 1}, 18: {'t1_goals': 1, 't2_goals': 0}, 19: {'t1_goals': 2, 't2_goals': 1}, 20: {'t1_goals': 1, 't2_goals': 1}, 21: {'t1_goals': 1, 't2_goals': 1}, 22: {'t1_goals': 2, 't2_goals': 0}, 23: {'t1_goals': 1, 't2_goals': 0}, 24: {'t1_goals': 1, 't2_goals': 1}, 25: {'t1_goals': 1, 't2_goals': 0}, 26: {'t1_goals': 1, 't2_goals': 1}, 27: {'t1_goals': 1, 't2_goals': 3}, 28: {'t1_goals': 1, 't2_goals': 1}, 29: {'t1_goals': 0, 't2_goals': 0}, 30: {'t1_goals': 1, 't2_goals': 0}, 31: {'t1_goals': 0, 't2_goals': 0}, 32: {'t1_goals': 3, 't2_goals': 0}, 33: {'t1_goals': 0, 't2_goals': 1}, 34: {'t1_goals': 0, 't2_goals': 2}, 35: {'t1_goals': 0, 't2_goals': 1}, 36: {'t1_goals': 1, 't2_goals': 4}, 37: {'t1_goals': 0, 't2_goals': 2}, 38: {'t1_goals': 0, 't2_goals': 2}, 39: {'t1_goals': 0, 't2_goals': 2}, 40: {'t1_goals': 1, 't2_goals': 2}, 41: {'t1_goals': 1, 't2_goals': 0}, 42: {'t1_goals': 0, 't2_goals': 1}, 43: {'t1_goals': 0, 't2_goals': 5}, 44: {'t1_goals': 3, 't2_goals': 1}, 45: {'t1_goals': 3, 't2_goals': 2}, 46: {'t1_goals': 0, 't2_goals': 0}, 47: {'t1_goals': 0, 't2_goals': 0}, 48: {'t1_goals': 0, 't2_goals': 3}}\n"
     ]
    }
   ],
   "source": [
    "print(simulate_groups().to_dict('index'))"
   ]
  },
  {
   "cell_type": "code",
   "execution_count": 6,
   "id": "d13588a7",
   "metadata": {},
   "outputs": [
    {
     "ename": "KeyError",
     "evalue": "'QAT'",
     "output_type": "error",
     "traceback": [
      "\u001b[0;31m---------------------------------------------------------------------------\u001b[0m",
      "\u001b[0;31mKeyError\u001b[0m                                  Traceback (most recent call last)",
      "Input \u001b[0;32mIn [6]\u001b[0m, in \u001b[0;36m<cell line: 1>\u001b[0;34m()\u001b[0m\n\u001b[0;32m----> 1\u001b[0m \u001b[43mTEAMS\u001b[49m\u001b[43m[\u001b[49m\u001b[38;5;124;43m'\u001b[39;49m\u001b[38;5;124;43mQAT\u001b[39;49m\u001b[38;5;124;43m'\u001b[39;49m\u001b[43m]\u001b[49m\u001b[38;5;241m.\u001b[39mpoints\n",
      "\u001b[0;31mKeyError\u001b[0m: 'QAT'"
     ]
    }
   ],
   "source": [
    "TEAMS['QAT'].points"
   ]
  },
  {
   "cell_type": "code",
   "execution_count": 84,
   "id": "66b52395",
   "metadata": {},
   "outputs": [
    {
     "data": {
      "text/html": [
       "<div>\n",
       "<style scoped>\n",
       "    .dataframe tbody tr th:only-of-type {\n",
       "        vertical-align: middle;\n",
       "    }\n",
       "\n",
       "    .dataframe tbody tr th {\n",
       "        vertical-align: top;\n",
       "    }\n",
       "\n",
       "    .dataframe thead th {\n",
       "        text-align: right;\n",
       "    }\n",
       "</style>\n",
       "<table border=\"1\" class=\"dataframe\">\n",
       "  <thead>\n",
       "    <tr style=\"text-align: right;\">\n",
       "      <th></th>\n",
       "      <th>team</th>\n",
       "      <th>pts</th>\n",
       "      <th>gdf</th>\n",
       "    </tr>\n",
       "  </thead>\n",
       "  <tbody>\n",
       "    <tr>\n",
       "      <th>1</th>\n",
       "      <td>POL</td>\n",
       "      <td>11</td>\n",
       "      <td>8</td>\n",
       "    </tr>\n",
       "    <tr>\n",
       "      <th>2</th>\n",
       "      <td>MEX</td>\n",
       "      <td>11</td>\n",
       "      <td>-1</td>\n",
       "    </tr>\n",
       "    <tr>\n",
       "      <th>3</th>\n",
       "      <td>KSA</td>\n",
       "      <td>6</td>\n",
       "      <td>0</td>\n",
       "    </tr>\n",
       "    <tr>\n",
       "      <th>4</th>\n",
       "      <td>ARG</td>\n",
       "      <td>4</td>\n",
       "      <td>-7</td>\n",
       "    </tr>\n",
       "  </tbody>\n",
       "</table>\n",
       "</div>"
      ],
      "text/plain": [
       "  team  pts  gdf\n",
       "1  POL   11    8\n",
       "2  MEX   11   -1\n",
       "3  KSA    6    0\n",
       "4  ARG    4   -7"
      ]
     },
     "execution_count": 84,
     "metadata": {},
     "output_type": "execute_result"
    }
   ],
   "source": [
    "create_teams() # Reset stats every simulation\n",
    "r=simulate_groups()\n",
    "\n",
    "# SIMULATE A SINGLE GROUP\n",
    "group =[]\n",
    "gl = db.execute('SELECT code FROM teams WHERE \"group\"=\"C\"')\n",
    "\n",
    "for team in gl:\n",
    "    t = TEAMS[team['code']]\n",
    "    group.append([t.name, t.points, t.goals_scored - t.goals_received])\n",
    "    \n",
    "group_df = pd.DataFrame(group, columns=['team','pts','gdf']).sort_values(['pts','gdf'], ascending=[False, False])\n",
    "group_df.index = [1,2,3,4]\n",
    "group_df"
   ]
  },
  {
   "cell_type": "markdown",
   "id": "31750993",
   "metadata": {},
   "source": [
    "## "
   ]
  },
  {
   "cell_type": "code",
   "execution_count": 21,
   "id": "24028379",
   "metadata": {},
   "outputs": [
    {
     "data": {
      "text/plain": [
       "['A', 'B', 'C', 'D', 'E', 'F', 'G', 'H']"
      ]
     },
     "execution_count": 21,
     "metadata": {},
     "output_type": "execute_result"
    }
   ],
   "source": [
    "group_labels = db.execute('SELECT DISTINCT \"group\" FROM teams')\n",
    "group_labels = [list(d.values())[0] for d in group_labels]\n"
   ]
  },
  {
   "cell_type": "code",
   "execution_count": 24,
   "id": "b5231f31",
   "metadata": {},
   "outputs": [],
   "source": [
    "group_labels = db.execute('SELECT DISTINCT \"group\" FROM teams') # Returns a list of dicts\n",
    "GROUPS = [list(d.values())[0] for d in group_labels]\n"
   ]
  },
  {
   "cell_type": "code",
   "execution_count": 103,
   "id": "5f2db96e",
   "metadata": {},
   "outputs": [
    {
     "data": {
      "text/plain": [
       "{'A': ['SEN', 'QAT', 'NED', 'ECU'],\n",
       " 'B': ['IRN', 'ENG', 'USA', 'WAL'],\n",
       " 'C': ['ARG', 'KSA', 'MEX', 'POL'],\n",
       " 'D': ['DEN', 'TUN', 'FRA', 'AUS'],\n",
       " 'E': ['GER', 'JPN', 'ESP', 'CRC'],\n",
       " 'F': ['MAR', 'CRO', 'BEL', 'CAN'],\n",
       " 'G': ['SUI', 'CMR', 'BRA', 'SRB'],\n",
       " 'H': ['URU', 'KOR', 'POR', 'GHA']}"
      ]
     },
     "execution_count": 103,
     "metadata": {},
     "output_type": "execute_result"
    }
   ],
   "source": [
    "TEAMS = create_teams()\n",
    "group_teams = dict()\n",
    "group_fixtures = dict()\n",
    "for g in GROUPS:\n",
    "    teams = db.execute('SELECT code FROM teams WHERE \"group\"=?', g)\n",
    "    group_teams[g] = [team['code'] for team in teams]\n",
    "    fixtures = db.execute('SELECT * FROM fixtures WHERE team1 IN (SELECT code FROM teams WHERE \"group\"=?) ORDER BY date;', g)\n",
    "    group_fixtures[g] = [(match['date'], match['team1'], match['team2']) for match in fixtures]\n",
    "group_teams"
   ]
  },
  {
   "cell_type": "code",
   "execution_count": 104,
   "id": "c87e8274",
   "metadata": {
    "scrolled": true
   },
   "outputs": [
    {
     "data": {
      "text/plain": [
       "{'A': [('2022-11-21', 'QAT', 'ECU'),\n",
       "  ('2022-11-21', 'SEN', 'NED'),\n",
       "  ('2022-11-25', 'QAT', 'SEN'),\n",
       "  ('2022-11-25', 'NED', 'ECU'),\n",
       "  ('2022-11-29', 'ECU', 'SEN'),\n",
       "  ('2022-11-29', 'NED', 'QAT')],\n",
       " 'B': [('2022-11-21', 'ENG', 'IRN'),\n",
       "  ('2022-11-21', 'USA', 'WAL'),\n",
       "  ('2022-11-25', 'WAL', 'IRN'),\n",
       "  ('2022-11-25', 'ENG', 'USA'),\n",
       "  ('2022-11-29', 'WAL', 'ENG'),\n",
       "  ('2022-11-29', 'IRN', 'USA')],\n",
       " 'C': [('2022-11-22', 'MEX', 'POL'),\n",
       "  ('2022-11-22', 'ARG', 'KSA'),\n",
       "  ('2022-11-26', 'POL', 'KSA'),\n",
       "  ('2022-11-26', 'ARG', 'MEX'),\n",
       "  ('2022-11-30', 'POL', 'ARG'),\n",
       "  ('2022-11-30', 'KSA', 'MEX')],\n",
       " 'D': [('2022-11-22', 'FRA', 'AUS'),\n",
       "  ('2022-11-22', 'DEN', 'TUN'),\n",
       "  ('2022-11-26', 'TUN', 'AUS'),\n",
       "  ('2022-11-26', 'FRA', 'DEN'),\n",
       "  ('2022-11-30', 'AUS', 'DEN'),\n",
       "  ('2022-11-30', 'TUN', 'FRA')],\n",
       " 'E': [('2022-11-23', 'ESP', 'CRC'),\n",
       "  ('2022-11-23', 'GER', 'JPN'),\n",
       "  ('2022-11-27', 'JPN', 'CRC'),\n",
       "  ('2022-11-27', 'ESP', 'GER'),\n",
       "  ('2022-12-01', 'JPN', 'ESP'),\n",
       "  ('2022-12-01', 'CRC', 'GER')],\n",
       " 'F': [('2022-11-23', 'BEL', 'CAN'),\n",
       "  ('2022-11-23', 'MAR', 'CRO'),\n",
       "  ('2022-11-27', 'BEL', 'MAR'),\n",
       "  ('2022-11-27', 'CRO', 'CAN'),\n",
       "  ('2022-12-01', 'CRO', 'BEL'),\n",
       "  ('2022-12-01', 'CAN', 'MAR')],\n",
       " 'G': [('2022-11-24', 'SUI', 'CMR'),\n",
       "  ('2022-11-24', 'BRA', 'SRB'),\n",
       "  ('2022-11-28', 'CMR', 'SRB'),\n",
       "  ('2022-11-28', 'BRA', 'SUI'),\n",
       "  ('2022-12-02', 'SRB', 'SUI'),\n",
       "  ('2022-12-02', 'CMR', 'BRA')],\n",
       " 'H': [('2022-11-24', 'URU', 'KOR'),\n",
       "  ('2022-11-24', 'POR', 'GHA'),\n",
       "  ('2022-11-28', 'KOR', 'GHA'),\n",
       "  ('2022-11-28', 'POR', 'URU'),\n",
       "  ('2022-12-02', 'GHA', 'URU'),\n",
       "  ('2022-12-02', 'KOR', 'POR')]}"
      ]
     },
     "execution_count": 104,
     "metadata": {},
     "output_type": "execute_result"
    }
   ],
   "source": [
    "group_fixtures"
   ]
  },
  {
   "cell_type": "code",
   "execution_count": 80,
   "id": "d06bee19",
   "metadata": {},
   "outputs": [
    {
     "data": {
      "text/plain": [
       "[[('Nov 21', 'QAT', 'ECU', 1),\n",
       "  ('Nov 21', 'SEN', 'NED', 2),\n",
       "  ('Nov 25', 'QAT', 'SEN', 18),\n",
       "  ('Nov 25', 'NED', 'ECU', 19),\n",
       "  ('Nov 29', 'ECU', 'SEN', 35),\n",
       "  ('Nov 29', 'NED', 'QAT', 36)],\n",
       " [('Nov 21', 'ENG', 'IRN', 3),\n",
       "  ('Nov 21', 'USA', 'WAL', 4),\n",
       "  ('Nov 25', 'WAL', 'IRN', 17),\n",
       "  ('Nov 25', 'ENG', 'USA', 20),\n",
       "  ('Nov 29', 'WAL', 'ENG', 33),\n",
       "  ('Nov 29', 'IRN', 'USA', 34)],\n",
       " [('Nov 22', 'MEX', 'POL', 7),\n",
       "  ('Nov 22', 'ARG', 'KSA', 8),\n",
       "  ('Nov 26', 'POL', 'KSA', 22),\n",
       "  ('Nov 26', 'ARG', 'MEX', 24),\n",
       "  ('Nov 30', 'POL', 'ARG', 39),\n",
       "  ('Nov 30', 'KSA', 'MEX', 40)],\n",
       " [('Nov 22', 'FRA', 'AUS', 5),\n",
       "  ('Nov 22', 'DEN', 'TUN', 6),\n",
       "  ('Nov 26', 'TUN', 'AUS', 21),\n",
       "  ('Nov 26', 'FRA', 'DEN', 23),\n",
       "  ('Nov 30', 'AUS', 'DEN', 37),\n",
       "  ('Nov 30', 'TUN', 'FRA', 38)],\n",
       " [('Nov 23', 'ESP', 'CRC', 10),\n",
       "  ('Nov 23', 'GER', 'JPN', 11),\n",
       "  ('Nov 27', 'JPN', 'CRC', 25),\n",
       "  ('Nov 27', 'ESP', 'GER', 28),\n",
       "  ('Dec 01', 'JPN', 'ESP', 43),\n",
       "  ('Dec 01', 'CRC', 'GER', 44)],\n",
       " [('Nov 23', 'BEL', 'CAN', 9),\n",
       "  ('Nov 23', 'MAR', 'CRO', 12),\n",
       "  ('Nov 27', 'BEL', 'MAR', 26),\n",
       "  ('Nov 27', 'CRO', 'CAN', 27),\n",
       "  ('Dec 01', 'CRO', 'BEL', 41),\n",
       "  ('Dec 01', 'CAN', 'MAR', 42)],\n",
       " [('Nov 24', 'SUI', 'CMR', 13),\n",
       "  ('Nov 24', 'BRA', 'SRB', 16),\n",
       "  ('Nov 28', 'CMR', 'SRB', 29),\n",
       "  ('Nov 28', 'BRA', 'SUI', 31),\n",
       "  ('Dec 02', 'SRB', 'SUI', 47),\n",
       "  ('Dec 02', 'CMR', 'BRA', 48)],\n",
       " [('Nov 24', 'URU', 'KOR', 14),\n",
       "  ('Nov 24', 'POR', 'GHA', 15),\n",
       "  ('Nov 28', 'KOR', 'GHA', 30),\n",
       "  ('Nov 28', 'POR', 'URU', 32),\n",
       "  ('Dec 02', 'GHA', 'URU', 45),\n",
       "  ('Dec 02', 'KOR', 'POR', 46)]]"
      ]
     },
     "execution_count": 80,
     "metadata": {},
     "output_type": "execute_result"
    }
   ],
   "source": []
  },
  {
   "cell_type": "code",
   "execution_count": 36,
   "id": "f60aebbc",
   "metadata": {},
   "outputs": [
    {
     "data": {
      "text/plain": [
       "{'SEN': 'Senegal',\n",
       " 'QAT': 'Qatar',\n",
       " 'NED': 'Netherlands',\n",
       " 'ECU': 'Ecuador',\n",
       " 'IRN': 'Iran',\n",
       " 'ENG': 'England',\n",
       " 'USA': 'United States',\n",
       " 'WAL': 'Wales',\n",
       " 'ARG': 'Argentina',\n",
       " 'KSA': 'Saudi Arabia',\n",
       " 'MEX': 'Mexico',\n",
       " 'POL': 'Poland',\n",
       " 'DEN': 'Denmark',\n",
       " 'TUN': 'Tunisia',\n",
       " 'FRA': 'France',\n",
       " 'AUS': 'Australia',\n",
       " 'GER': 'Germany',\n",
       " 'JPN': 'Japan',\n",
       " 'ESP': 'Spain',\n",
       " 'CRC': 'Costa Rica',\n",
       " 'MAR': 'Morocco',\n",
       " 'CRO': 'Croatia',\n",
       " 'BEL': 'Belgium',\n",
       " 'CAN': 'Canada',\n",
       " 'SUI': 'Switzerland',\n",
       " 'CMR': 'Cameroon',\n",
       " 'BRA': 'Brazil',\n",
       " 'SRB': 'Serbia',\n",
       " 'URU': 'Uruguay',\n",
       " 'KOR': 'South Korea',\n",
       " 'POR': 'Portugal',\n",
       " 'GHA': 'Ghana'}"
      ]
     },
     "execution_count": 36,
     "metadata": {},
     "output_type": "execute_result"
    }
   ],
   "source": [
    "TEAM_CODES = db.execute('SELECT code, team FROM teams;')\n",
    "TEAM_CODES = {team['code']:team['team'] for team in TEAM_CODES}\n",
    "TEAM_CODES"
   ]
  },
  {
   "cell_type": "code",
   "execution_count": 37,
   "id": "bf0f337c",
   "metadata": {},
   "outputs": [],
   "source": [
    "from datetime import datetime\n"
   ]
  },
  {
   "cell_type": "code",
   "execution_count": 38,
   "id": "146e860e",
   "metadata": {},
   "outputs": [
    {
     "name": "stdout",
     "output_type": "stream",
     "text": [
      "Help on class datetime in module datetime:\n",
      "\n",
      "class datetime(date)\n",
      " |  datetime(year, month, day[, hour[, minute[, second[, microsecond[,tzinfo]]]]])\n",
      " |  \n",
      " |  The year, month and day arguments are required. tzinfo may be None, or an\n",
      " |  instance of a tzinfo subclass. The remaining arguments may be ints.\n",
      " |  \n",
      " |  Method resolution order:\n",
      " |      datetime\n",
      " |      date\n",
      " |      builtins.object\n",
      " |  \n",
      " |  Methods defined here:\n",
      " |  \n",
      " |  __add__(self, value, /)\n",
      " |      Return self+value.\n",
      " |  \n",
      " |  __eq__(self, value, /)\n",
      " |      Return self==value.\n",
      " |  \n",
      " |  __ge__(self, value, /)\n",
      " |      Return self>=value.\n",
      " |  \n",
      " |  __getattribute__(self, name, /)\n",
      " |      Return getattr(self, name).\n",
      " |  \n",
      " |  __gt__(self, value, /)\n",
      " |      Return self>value.\n",
      " |  \n",
      " |  __hash__(self, /)\n",
      " |      Return hash(self).\n",
      " |  \n",
      " |  __le__(self, value, /)\n",
      " |      Return self<=value.\n",
      " |  \n",
      " |  __lt__(self, value, /)\n",
      " |      Return self<value.\n",
      " |  \n",
      " |  __ne__(self, value, /)\n",
      " |      Return self!=value.\n",
      " |  \n",
      " |  __radd__(self, value, /)\n",
      " |      Return value+self.\n",
      " |  \n",
      " |  __reduce__(...)\n",
      " |      __reduce__() -> (cls, state)\n",
      " |  \n",
      " |  __reduce_ex__(...)\n",
      " |      __reduce_ex__(proto) -> (cls, state)\n",
      " |  \n",
      " |  __repr__(self, /)\n",
      " |      Return repr(self).\n",
      " |  \n",
      " |  __rsub__(self, value, /)\n",
      " |      Return value-self.\n",
      " |  \n",
      " |  __str__(self, /)\n",
      " |      Return str(self).\n",
      " |  \n",
      " |  __sub__(self, value, /)\n",
      " |      Return self-value.\n",
      " |  \n",
      " |  astimezone(...)\n",
      " |      tz -> convert to local time in new timezone tz\n",
      " |  \n",
      " |  ctime(...)\n",
      " |      Return ctime() style string.\n",
      " |  \n",
      " |  date(...)\n",
      " |      Return date object with same year, month and day.\n",
      " |  \n",
      " |  dst(...)\n",
      " |      Return self.tzinfo.dst(self).\n",
      " |  \n",
      " |  isoformat(...)\n",
      " |      [sep] -> string in ISO 8601 format, YYYY-MM-DDT[HH[:MM[:SS[.mmm[uuu]]]]][+HH:MM].\n",
      " |      sep is used to separate the year from the time, and defaults to 'T'.\n",
      " |      The optional argument timespec specifies the number of additional terms\n",
      " |      of the time to include. Valid options are 'auto', 'hours', 'minutes',\n",
      " |      'seconds', 'milliseconds' and 'microseconds'.\n",
      " |  \n",
      " |  replace(...)\n",
      " |      Return datetime with new specified fields.\n",
      " |  \n",
      " |  time(...)\n",
      " |      Return time object with same time but with tzinfo=None.\n",
      " |  \n",
      " |  timestamp(...)\n",
      " |      Return POSIX timestamp as float.\n",
      " |  \n",
      " |  timetuple(...)\n",
      " |      Return time tuple, compatible with time.localtime().\n",
      " |  \n",
      " |  timetz(...)\n",
      " |      Return time object with same time and tzinfo.\n",
      " |  \n",
      " |  tzname(...)\n",
      " |      Return self.tzinfo.tzname(self).\n",
      " |  \n",
      " |  utcoffset(...)\n",
      " |      Return self.tzinfo.utcoffset(self).\n",
      " |  \n",
      " |  utctimetuple(...)\n",
      " |      Return UTC time tuple, compatible with time.localtime().\n",
      " |  \n",
      " |  ----------------------------------------------------------------------\n",
      " |  Class methods defined here:\n",
      " |  \n",
      " |  combine(...) from builtins.type\n",
      " |      date, time -> datetime with same date and time fields\n",
      " |  \n",
      " |  fromisoformat(...) from builtins.type\n",
      " |      string -> datetime from datetime.isoformat() output\n",
      " |  \n",
      " |  fromtimestamp(...) from builtins.type\n",
      " |      timestamp[, tz] -> tz's local time from POSIX timestamp.\n",
      " |  \n",
      " |  now(tz=None) from builtins.type\n",
      " |      Returns new datetime object representing current time local to tz.\n",
      " |      \n",
      " |        tz\n",
      " |          Timezone object.\n",
      " |      \n",
      " |      If no tz is specified, uses local timezone.\n",
      " |  \n",
      " |  strptime(...) from builtins.type\n",
      " |      string, format -> new datetime parsed from a string (like time.strptime()).\n",
      " |  \n",
      " |  utcfromtimestamp(...) from builtins.type\n",
      " |      Construct a naive UTC datetime from a POSIX timestamp.\n",
      " |  \n",
      " |  utcnow(...) from builtins.type\n",
      " |      Return a new datetime representing UTC day and time.\n",
      " |  \n",
      " |  ----------------------------------------------------------------------\n",
      " |  Static methods defined here:\n",
      " |  \n",
      " |  __new__(*args, **kwargs) from builtins.type\n",
      " |      Create and return a new object.  See help(type) for accurate signature.\n",
      " |  \n",
      " |  ----------------------------------------------------------------------\n",
      " |  Data descriptors defined here:\n",
      " |  \n",
      " |  fold\n",
      " |  \n",
      " |  hour\n",
      " |  \n",
      " |  microsecond\n",
      " |  \n",
      " |  minute\n",
      " |  \n",
      " |  second\n",
      " |  \n",
      " |  tzinfo\n",
      " |  \n",
      " |  ----------------------------------------------------------------------\n",
      " |  Data and other attributes defined here:\n",
      " |  \n",
      " |  max = datetime.datetime(9999, 12, 31, 23, 59, 59, 999999)\n",
      " |  \n",
      " |  min = datetime.datetime(1, 1, 1, 0, 0)\n",
      " |  \n",
      " |  resolution = datetime.timedelta(microseconds=1)\n",
      " |  \n",
      " |  ----------------------------------------------------------------------\n",
      " |  Methods inherited from date:\n",
      " |  \n",
      " |  __format__(...)\n",
      " |      Formats self with strftime.\n",
      " |  \n",
      " |  isocalendar(...)\n",
      " |      Return a named tuple containing ISO year, week number, and weekday.\n",
      " |  \n",
      " |  isoweekday(...)\n",
      " |      Return the day of the week represented by the date.\n",
      " |      Monday == 1 ... Sunday == 7\n",
      " |  \n",
      " |  strftime(...)\n",
      " |      format -> strftime() style string.\n",
      " |  \n",
      " |  toordinal(...)\n",
      " |      Return proleptic Gregorian ordinal.  January 1 of year 1 is day 1.\n",
      " |  \n",
      " |  weekday(...)\n",
      " |      Return the day of the week represented by the date.\n",
      " |      Monday == 0 ... Sunday == 6\n",
      " |  \n",
      " |  ----------------------------------------------------------------------\n",
      " |  Class methods inherited from date:\n",
      " |  \n",
      " |  fromisocalendar(...) from builtins.type\n",
      " |      int, int, int -> Construct a date from the ISO year, week number and weekday.\n",
      " |      \n",
      " |      This is the inverse of the date.isocalendar() function\n",
      " |  \n",
      " |  fromordinal(...) from builtins.type\n",
      " |      int -> date corresponding to a proleptic Gregorian ordinal.\n",
      " |  \n",
      " |  today(...) from builtins.type\n",
      " |      Current date or datetime:  same as self.__class__.fromtimestamp(time.time()).\n",
      " |  \n",
      " |  ----------------------------------------------------------------------\n",
      " |  Data descriptors inherited from date:\n",
      " |  \n",
      " |  day\n",
      " |  \n",
      " |  month\n",
      " |  \n",
      " |  year\n",
      "\n"
     ]
    }
   ],
   "source": [
    "help(datetime)"
   ]
  },
  {
   "cell_type": "code",
   "execution_count": 48,
   "id": "d44e2ea7",
   "metadata": {},
   "outputs": [],
   "source": [
    "date=datetime.strptime(\"12-4-2022\",\"%m-%d-%Y\")"
   ]
  },
  {
   "cell_type": "code",
   "execution_count": 50,
   "id": "385a7991",
   "metadata": {},
   "outputs": [
    {
     "data": {
      "text/plain": [
       "'Dec 04'"
      ]
     },
     "execution_count": 50,
     "metadata": {},
     "output_type": "execute_result"
    }
   ],
   "source": [
    "date.strftime(\"%b %d\")"
   ]
  },
  {
   "cell_type": "code",
   "execution_count": 57,
   "id": "37d1422f",
   "metadata": {},
   "outputs": [
    {
     "data": {
      "text/plain": [
       "[0, 2, 4, 6]"
      ]
     },
     "execution_count": 57,
     "metadata": {},
     "output_type": "execute_result"
    }
   ],
   "source": [
    "group = list(range(8))\n",
    "group[::2]"
   ]
  },
  {
   "cell_type": "code",
   "execution_count": 60,
   "id": "3c0edd57",
   "metadata": {},
   "outputs": [
    {
     "name": "stdout",
     "output_type": "stream",
     "text": [
      "0 1\n",
      "2 3\n",
      "4 5\n",
      "6 7\n"
     ]
    }
   ],
   "source": [
    "for x1, x2 in zip(group[::2], group[1::2]):\n",
    "    print(x1, x2)"
   ]
  },
  {
   "cell_type": "code",
   "execution_count": null,
   "id": "e3168e42",
   "metadata": {},
   "outputs": [],
   "source": []
  }
 ],
 "metadata": {
  "kernelspec": {
   "display_name": "Python 3 (ipykernel)",
   "language": "python",
   "name": "python3"
  },
  "language_info": {
   "codemirror_mode": {
    "name": "ipython",
    "version": 3
   },
   "file_extension": ".py",
   "mimetype": "text/x-python",
   "name": "python",
   "nbconvert_exporter": "python",
   "pygments_lexer": "ipython3",
   "version": "3.9.10"
  }
 },
 "nbformat": 4,
 "nbformat_minor": 5
}
