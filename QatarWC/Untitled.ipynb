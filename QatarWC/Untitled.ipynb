{
 "cells": [
  {
   "cell_type": "code",
   "execution_count": 1,
   "id": "53dce008",
   "metadata": {},
   "outputs": [],
   "source": [
    "import numpy as np\n",
    "import pandas as pd\n",
    "from cs50 import SQL\n",
    "from random import randint\n",
    "from scipy.stats import rv_discrete\n",
    "\n",
    "db = SQL(\"sqlite:///qatarwc.db\")"
   ]
  },
  {
   "cell_type": "code",
   "execution_count": 2,
   "id": "526a753c",
   "metadata": {},
   "outputs": [],
   "source": [
    "class Team:\n",
    "    \"Football team\"\n",
    "    def __init__(self, name, group):\n",
    "        self.name = name\n",
    "        self.group = group\n",
    "        self.points = 0\n",
    "        self.goals_scored = 0\n",
    "        self.goals_received = 0\n",
    "        self.stage = \"groups\"\n",
    "\n",
    "    def match(self, scored, received):\n",
    "        self.goals_scored += scored\n",
    "        self.goals_received += received\n",
    "        # Update points depending on result\n",
    "        if scored > received:\n",
    "            self.points += 3\n",
    "        elif scored == received:\n",
    "            self.points += 1\n",
    "\n",
    "    def eliminate(self):\n",
    "        self.stage = 'eliminated'"
   ]
  },
  {
   "cell_type": "code",
   "execution_count": 26,
   "id": "a80911a5",
   "metadata": {},
   "outputs": [],
   "source": [
    "def create_teams():\n",
    "    # Dict of Team instances\n",
    "    TEAMS = dict()\n",
    "    for i, team in enumerate(db.execute('SELECT code, \"group\" FROM teams;')):\n",
    "        TEAMS[team['code']] = Team(team['code'], team['group'])\n",
    "    return TEAMS"
   ]
  },
  {
   "cell_type": "code",
   "execution_count": 5,
   "id": "f39358b4",
   "metadata": {},
   "outputs": [],
   "source": [
    "def simulate_match():\n",
    "    \"\"\"\n",
    "    Returns the final score of a simulated football match. \n",
    "    The max goals ever scored in a WC match are 12.\n",
    "    The max goals scored by one team are 10.\n",
    "    \"\"\"\n",
    "    # Custom probability distribution of total match goals\n",
    "    xk = range(13)\n",
    "    pk = (0.09, 0.18, 0.28, 0.24, 0.08, 0.065, 0.025, 0.015, 0.0105, 0.006, 0.004, 0.0025, 0.002)\n",
    "    pdist = rv_discrete(values=(xk, pk))\n",
    "\n",
    "    # Generate sample\n",
    "    total_goals = pdist.rvs() \n",
    "    # Assign a portion of goals to one team (max 10)\n",
    "    t1_goals = randint(0,10) if total_goals>10 else randint(0, total_goals)\n",
    "\n",
    "    # Return score\n",
    "    return t1_goals, total_goals - t1_goals\n",
    "\n",
    "def simulate_groups():\n",
    "    \"\"\"\"\n",
    "    Simulates the group stage for one group according to FIFA rules.\n",
    "    https://digitalhub.fifa.com/m/2744a0a5e3ded185/original/FIFA-World-Cup-Qatar-2022-Regulations_EN.pdf\n",
    "    \"\"\"\n",
    "    group_matches = db.execute(\"SELECT match, team1, team2 FROM fixtures WHERE stage = 'group matches';\")\n",
    "    groups_df = pd.DataFrame(group_matches).set_index('match')\n",
    "\n",
    "    t1_goals=[]\n",
    "    t2_goals=[]\n",
    "    for _, row in groups_df.iterrows():\n",
    "        g1, g2 = simulate_match()\n",
    "        # Store score\n",
    "        t1_goals.append(g1)\n",
    "        t2_goals.append(g2)\n",
    "\n",
    "        # Update statistics of both teams\n",
    "        TEAMS[row['team1']].match(g1, g2)\n",
    "        TEAMS[row['team2']].match(g2, g1)\n",
    "\n",
    "    groups_df.insert(2, 't1_goals', t1_goals)\n",
    "    groups_df.insert(3, 't2_goals', t2_goals)\n",
    "\n",
    "    #print(groups_df)"
   ]
  },
  {
   "cell_type": "code",
   "execution_count": 6,
   "id": "d13588a7",
   "metadata": {},
   "outputs": [
    {
     "ename": "KeyError",
     "evalue": "'QAT'",
     "output_type": "error",
     "traceback": [
      "\u001b[0;31m---------------------------------------------------------------------------\u001b[0m",
      "\u001b[0;31mKeyError\u001b[0m                                  Traceback (most recent call last)",
      "Input \u001b[0;32mIn [6]\u001b[0m, in \u001b[0;36m<cell line: 1>\u001b[0;34m()\u001b[0m\n\u001b[0;32m----> 1\u001b[0m \u001b[43mTEAMS\u001b[49m\u001b[43m[\u001b[49m\u001b[38;5;124;43m'\u001b[39;49m\u001b[38;5;124;43mQAT\u001b[39;49m\u001b[38;5;124;43m'\u001b[39;49m\u001b[43m]\u001b[49m\u001b[38;5;241m.\u001b[39mpoints\n",
      "\u001b[0;31mKeyError\u001b[0m: 'QAT'"
     ]
    }
   ],
   "source": [
    "TEAMS['QAT'].points"
   ]
  },
  {
   "cell_type": "code",
   "execution_count": 7,
   "id": "66b52395",
   "metadata": {},
   "outputs": [
    {
     "data": {
      "text/html": [
       "<div>\n",
       "<style scoped>\n",
       "    .dataframe tbody tr th:only-of-type {\n",
       "        vertical-align: middle;\n",
       "    }\n",
       "\n",
       "    .dataframe tbody tr th {\n",
       "        vertical-align: top;\n",
       "    }\n",
       "\n",
       "    .dataframe thead th {\n",
       "        text-align: right;\n",
       "    }\n",
       "</style>\n",
       "<table border=\"1\" class=\"dataframe\">\n",
       "  <thead>\n",
       "    <tr style=\"text-align: right;\">\n",
       "      <th></th>\n",
       "      <th>team</th>\n",
       "      <th>pts</th>\n",
       "      <th>gdf</th>\n",
       "    </tr>\n",
       "  </thead>\n",
       "  <tbody>\n",
       "    <tr>\n",
       "      <th>1</th>\n",
       "      <td>POL</td>\n",
       "      <td>9</td>\n",
       "      <td>10</td>\n",
       "    </tr>\n",
       "    <tr>\n",
       "      <th>2</th>\n",
       "      <td>KSA</td>\n",
       "      <td>4</td>\n",
       "      <td>0</td>\n",
       "    </tr>\n",
       "    <tr>\n",
       "      <th>3</th>\n",
       "      <td>ARG</td>\n",
       "      <td>3</td>\n",
       "      <td>-8</td>\n",
       "    </tr>\n",
       "    <tr>\n",
       "      <th>4</th>\n",
       "      <td>MEX</td>\n",
       "      <td>1</td>\n",
       "      <td>-2</td>\n",
       "    </tr>\n",
       "  </tbody>\n",
       "</table>\n",
       "</div>"
      ],
      "text/plain": [
       "  team  pts  gdf\n",
       "1  POL    9   10\n",
       "2  KSA    4    0\n",
       "3  ARG    3   -8\n",
       "4  MEX    1   -2"
      ]
     },
     "execution_count": 7,
     "metadata": {},
     "output_type": "execute_result"
    }
   ],
   "source": [
    "create_teams() # Reset stats every simulation\n",
    "simulate_groups()\n",
    "\n",
    "# SIMULATE A SINGLE GROUP\n",
    "group =[]\n",
    "gl = db.execute('SELECT code FROM teams WHERE \"group\"=\"C\"')\n",
    "\n",
    "for team in gl:\n",
    "    t = TEAMS[team['code']]\n",
    "    group.append([t.name, t.points, t.goals_scored - t.goals_received])\n",
    "    \n",
    "group_df = pd.DataFrame(group, columns=['team','pts','gdf']).sort_values(['pts','gdf'], ascending=[False, False])\n",
    "group_df.index = [1,2,3,4]\n",
    "group_df"
   ]
  },
  {
   "cell_type": "markdown",
   "id": "31750993",
   "metadata": {},
   "source": [
    "## "
   ]
  },
  {
   "cell_type": "code",
   "execution_count": 21,
   "id": "24028379",
   "metadata": {},
   "outputs": [
    {
     "data": {
      "text/plain": [
       "['A', 'B', 'C', 'D', 'E', 'F', 'G', 'H']"
      ]
     },
     "execution_count": 21,
     "metadata": {},
     "output_type": "execute_result"
    }
   ],
   "source": [
    "group_labels = db.execute('SELECT DISTINCT \"group\" FROM teams')\n",
    "group_labels = [list(d.values())[0] for d in group_labels]\n"
   ]
  },
  {
   "cell_type": "code",
   "execution_count": 24,
   "id": "b5231f31",
   "metadata": {},
   "outputs": [],
   "source": [
    "group_labels = db.execute('SELECT DISTINCT \"group\" FROM teams') # Returns a list of dicts\n",
    "GROUPS = [list(d.values())[0] for d in group_labels]\n"
   ]
  },
  {
   "cell_type": "code",
   "execution_count": 33,
   "id": "5f2db96e",
   "metadata": {},
   "outputs": [
    {
     "data": {
      "text/plain": [
       "{'A': ['SEN', 'QAT', 'NED', 'ECU'],\n",
       " 'B': ['IRN', 'ENG', 'USA', 'WAL'],\n",
       " 'C': ['ARG', 'KSA', 'MEX', 'POL'],\n",
       " 'D': ['DEN', 'TUN', 'FRA', 'AUS'],\n",
       " 'E': ['GER', 'JPN', 'ESP', 'CRC'],\n",
       " 'F': ['MAR', 'CRO', 'BEL', 'CAN'],\n",
       " 'G': ['SUI', 'CMR', 'BRA', 'SRB'],\n",
       " 'H': ['URU', 'KOR', 'POR', 'GHA']}"
      ]
     },
     "execution_count": 33,
     "metadata": {},
     "output_type": "execute_result"
    }
   ],
   "source": [
    "TEAMS = create_teams()\n",
    "group_teams = dict()\n",
    "group_fixtures = dict()\n",
    "for g in GROUPS:\n",
    "    teams = db.execute('SELECT code FROM teams WHERE \"group\"=?', g)\n",
    "    group_teams[g] = [team['code'] for team in teams]\n",
    "    fixtures = db.execute('SELECT * FROM fixtures WHERE team1 IN (SELECT code FROM teams WHERE \"group\"=?) ORDER BY date;', g)\n",
    "    group_fixtures[g] = [(match['date'], match['team1'], match['team2']) for match in fixtures]\n",
    "group_teams"
   ]
  },
  {
   "cell_type": "code",
   "execution_count": 34,
   "id": "c87e8274",
   "metadata": {},
   "outputs": [
    {
     "data": {
      "text/plain": [
       "{'A': [('2022-11-21', 'QAT', 'ECU'),\n",
       "  ('2022-11-21', 'SEN', 'NED'),\n",
       "  ('2022-11-25', 'QAT', 'SEN'),\n",
       "  ('2022-11-25', 'NED', 'ECU'),\n",
       "  ('2022-11-29', 'ECU', 'SEN'),\n",
       "  ('2022-11-29', 'NED', 'QAT')],\n",
       " 'B': [('2022-11-21', 'ENG', 'IRN'),\n",
       "  ('2022-11-21', 'USA', 'WAL'),\n",
       "  ('2022-11-25', 'WAL', 'IRN'),\n",
       "  ('2022-11-25', 'ENG', 'USA'),\n",
       "  ('2022-11-29', 'WAL', 'ENG'),\n",
       "  ('2022-11-29', 'IRN', 'USA')],\n",
       " 'C': [('2022-11-22', 'MEX', 'POL'),\n",
       "  ('2022-11-22', 'ARG', 'KSA'),\n",
       "  ('2022-11-26', 'POL', 'KSA'),\n",
       "  ('2022-11-26', 'ARG', 'MEX'),\n",
       "  ('2022-11-30', 'POL', 'ARG'),\n",
       "  ('2022-11-30', 'KSA', 'MEX')],\n",
       " 'D': [('2022-11-22', 'FRA', 'AUS'),\n",
       "  ('2022-11-22', 'DEN', 'TUN'),\n",
       "  ('2022-11-26', 'TUN', 'AUS'),\n",
       "  ('2022-11-26', 'FRA', 'DEN'),\n",
       "  ('2022-11-30', 'AUS', 'DEN'),\n",
       "  ('2022-11-30', 'TUN', 'FRA')],\n",
       " 'E': [('2022-11-23', 'ESP', 'CRC'),\n",
       "  ('2022-11-23', 'GER', 'JPN'),\n",
       "  ('2022-11-27', 'JPN', 'CRC'),\n",
       "  ('2022-11-27', 'ESP', 'GER'),\n",
       "  ('2022-12-01', 'JPN', 'ESP'),\n",
       "  ('2022-12-01', 'CRC', 'GER')],\n",
       " 'F': [('2022-11-23', 'BEL', 'CAN'),\n",
       "  ('2022-11-23', 'MAR', 'CRO'),\n",
       "  ('2022-11-27', 'BEL', 'MAR'),\n",
       "  ('2022-11-27', 'CRO', 'CAN'),\n",
       "  ('2022-12-01', 'CRO', 'BEL'),\n",
       "  ('2022-12-01', 'CAN', 'MAR')],\n",
       " 'G': [('2022-11-24', 'SUI', 'CMR'),\n",
       "  ('2022-11-24', 'BRA', 'SRB'),\n",
       "  ('2022-11-28', 'CMR', 'SRB'),\n",
       "  ('2022-11-28', 'BRA', 'SUI'),\n",
       "  ('2022-12-02', 'SRB', 'SUI'),\n",
       "  ('2022-12-02', 'CMR', 'BRA')],\n",
       " 'H': [('2022-11-24', 'URU', 'KOR'),\n",
       "  ('2022-11-24', 'POR', 'GHA'),\n",
       "  ('2022-11-28', 'KOR', 'GHA'),\n",
       "  ('2022-11-28', 'POR', 'URU'),\n",
       "  ('2022-12-02', 'GHA', 'URU'),\n",
       "  ('2022-12-02', 'KOR', 'POR')]}"
      ]
     },
     "execution_count": 34,
     "metadata": {},
     "output_type": "execute_result"
    }
   ],
   "source": [
    "group_fixtures"
   ]
  },
  {
   "cell_type": "code",
   "execution_count": 36,
   "id": "9ce60a1e",
   "metadata": {},
   "outputs": [
    {
     "data": {
      "text/plain": [
       "{'SEN': 'Senegal',\n",
       " 'QAT': 'Qatar',\n",
       " 'NED': 'Netherlands',\n",
       " 'ECU': 'Ecuador',\n",
       " 'IRN': 'Iran',\n",
       " 'ENG': 'England',\n",
       " 'USA': 'United States',\n",
       " 'WAL': 'Wales',\n",
       " 'ARG': 'Argentina',\n",
       " 'KSA': 'Saudi Arabia',\n",
       " 'MEX': 'Mexico',\n",
       " 'POL': 'Poland',\n",
       " 'DEN': 'Denmark',\n",
       " 'TUN': 'Tunisia',\n",
       " 'FRA': 'France',\n",
       " 'AUS': 'Australia',\n",
       " 'GER': 'Germany',\n",
       " 'JPN': 'Japan',\n",
       " 'ESP': 'Spain',\n",
       " 'CRC': 'Costa Rica',\n",
       " 'MAR': 'Morocco',\n",
       " 'CRO': 'Croatia',\n",
       " 'BEL': 'Belgium',\n",
       " 'CAN': 'Canada',\n",
       " 'SUI': 'Switzerland',\n",
       " 'CMR': 'Cameroon',\n",
       " 'BRA': 'Brazil',\n",
       " 'SRB': 'Serbia',\n",
       " 'URU': 'Uruguay',\n",
       " 'KOR': 'South Korea',\n",
       " 'POR': 'Portugal',\n",
       " 'GHA': 'Ghana'}"
      ]
     },
     "execution_count": 36,
     "metadata": {},
     "output_type": "execute_result"
    }
   ],
   "source": [
    "TEAM_CODES = db.execute('SELECT code, team FROM teams;')\n",
    "TEAM_CODES = {team['code']:team['team'] for team in TEAM_CODES}\n",
    "TEAM_CODES"
   ]
  },
  {
   "cell_type": "code",
   "execution_count": null,
   "id": "42278045",
   "metadata": {},
   "outputs": [],
   "source": []
  }
 ],
 "metadata": {
  "kernelspec": {
   "display_name": "Python 3 (ipykernel)",
   "language": "python",
   "name": "python3"
  },
  "language_info": {
   "codemirror_mode": {
    "name": "ipython",
    "version": 3
   },
   "file_extension": ".py",
   "mimetype": "text/x-python",
   "name": "python",
   "nbconvert_exporter": "python",
   "pygments_lexer": "ipython3",
   "version": "3.9.10"
  }
 },
 "nbformat": 4,
 "nbformat_minor": 5
}
